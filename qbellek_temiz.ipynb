{
  "nbformat": 4,
  "nbformat_minor": 0,
  "metadata": {
    "colab": {
      "provenance": [],
      "authorship_tag": "ABX9TyPUwjc0BPK1R8/diAQYEQRA",
      "include_colab_link": true
    },
    "kernelspec": {
      "name": "python3",
      "display_name": "Python 3"
    },
    "language_info": {
      "name": "python"
    }
  },
  "cells": [
    {
      "cell_type": "markdown",
      "metadata": {
        "id": "view-in-github",
        "colab_type": "text"
      },
      "source": [
        "<a href=\"https://colab.research.google.com/github/mgencler/qmem/blob/main/qbellek_temiz.ipynb\" target=\"_parent\"><img src=\"https://colab.research.google.com/assets/colab-badge.svg\" alt=\"Open In Colab\"/></a>"
      ]
    },
    {
      "cell_type": "code",
      "source": [
        "!pip uninstall -y qiskit qiskit-aer plotnine matplotlib"
      ],
      "metadata": {
        "colab": {
          "base_uri": "https://localhost:8080/"
        },
        "id": "0vY443xPiTZE",
        "outputId": "ebee1c74-10a8-4956-a1cc-90d68d8e1039"
      },
      "execution_count": null,
      "outputs": [
        {
          "output_type": "stream",
          "name": "stdout",
          "text": [
            "Found existing installation: qiskit 1.3.2\n",
            "Uninstalling qiskit-1.3.2:\n",
            "  Successfully uninstalled qiskit-1.3.2\n",
            "Found existing installation: qiskit-aer 0.16.0\n",
            "Uninstalling qiskit-aer-0.16.0:\n",
            "  Successfully uninstalled qiskit-aer-0.16.0\n",
            "Found existing installation: plotnine 0.14.5\n",
            "Uninstalling plotnine-0.14.5:\n",
            "  Successfully uninstalled plotnine-0.14.5\n",
            "Found existing installation: matplotlib 3.7.1\n",
            "Uninstalling matplotlib-3.7.1:\n",
            "  Successfully uninstalled matplotlib-3.7.1\n"
          ]
        }
      ]
    },
    {
      "cell_type": "code",
      "source": [
        "# 1. Gerekli Kütüphanelerin Yüklenmesi (Sürümlerle Birlikte)\n",
        "!pip install \"qiskit==1.3.2\" \"qiskit-aer==0.16.0\" \"matplotlib==3.8.0\" \"scipy==1.11.4\" --quiet\n",
        "\n",
        "# 2. Kütüphanelerin Import Edilmesi\n",
        "from qiskit import QuantumCircuit, transpile\n",
        "from qiskit.quantum_info import Statevector, Operator, Pauli, DensityMatrix\n",
        "from qiskit_aer import AerSimulator  # Aer 0.16.0 için yeni import\n",
        "import numpy as np\n",
        "import scipy.linalg\n",
        "from scipy.optimize import minimize, basinhopping\n",
        "import matplotlib.pyplot as plt\n",
        "\n",
        "# 3. HSC ve FEO Kapıları (Qiskit 1.3.2 Uyumlu)\n",
        "def create_HSC_gate_improved(theta):\n",
        "    # Pauli matrislerini manuel oluşturma\n",
        "    pauli_x = Pauli('X').to_matrix()\n",
        "    pauli_y = Pauli('Y').to_matrix()\n",
        "    pauli_z = Pauli('Z').to_matrix()\n",
        "    pauli_xy = np.kron(pauli_x, pauli_y)\n",
        "    pauli_zI = np.kron(pauli_z, np.eye(2))\n",
        "    H = pauli_xy + pauli_zI\n",
        "    return scipy.linalg.expm(-1j * theta * H)\n",
        "\n",
        "def create_FEO_gate(phi):\n",
        "    pauli_x = Pauli('X').to_matrix()\n",
        "    pauli_z = Pauli('Z').to_matrix()\n",
        "    pauli_xz = np.kron(pauli_x, pauli_z)\n",
        "    I = np.eye(4)\n",
        "    return np.cos(phi)*I + 1j*np.sin(phi)*pauli_xz\n",
        "\n",
        "# 4. NuBell-α Devresi\n",
        "def create_NuBell_alpha(theta, phi):\n",
        "    qc = QuantumCircuit(2, 2) # İki klasik bit ekledik.\n",
        "    qc.h(0)\n",
        "    qc.cx(0, 1)\n",
        "    qc.append(Operator(create_FEO_gate(phi)), [0,1])  # Yeni Operator() wrapper\n",
        "    qc.append(Operator(create_HSC_gate_improved(theta)), [0,1])\n",
        "    qc.measure([0, 1], [0, 1]) # Ölçüm Eklendi.\n",
        "    return qc\n",
        "\n",
        "# 5. TEM Hesaplama (Aer 0.16.0 Uyumlu)\n",
        "def calculate_TEM(qc, theta, phi, shots=2048, topo_weight=0.7, entropy_weight=0.3):\n",
        "    # Ölçümsüz ideal devreyi oluştur\n",
        "    qc_ideal = QuantumCircuit(2)\n",
        "    qc_ideal.h(0)\n",
        "    qc_ideal.cx(0, 1)\n",
        "    qc_ideal.append(Operator(create_FEO_gate(phi)), [0,1])\n",
        "    qc_ideal.append(Operator(create_HSC_gate_improved(theta)), [0,1])\n",
        "\n",
        "    # İdeal durum\n",
        "    ideal_sv = Statevector(qc_ideal)\n",
        "    rho_ideal = np.outer(ideal_sv, ideal_sv.conjugate())\n",
        "\n",
        "    # Simülasyon\n",
        "    simulator = AerSimulator()\n",
        "    transpiled_qc = transpile(qc, simulator)\n",
        "    transpiled_qc.save_statevector() # State vector kaydedildi.\n",
        "    result = simulator.run(transpiled_qc, shots=shots).result()\n",
        "\n",
        "    # Olasılık dağılımı (Laplace Smoothing)\n",
        "    alpha = 1e-3  # Küçük bir sabit\n",
        "    counts = result.get_counts()\n",
        "    num_states = 4\n",
        "    probs = np.array([counts.get(state, 0) for state in ['00','01','10','11']])\n",
        "    probs_adjusted = (probs + alpha) / (shots + alpha * num_states)\n",
        "\n",
        "    # Simülasyon sonucu yoğunluk matrisi oluşturma.\n",
        "    statevector_real = result.get_statevector(0)\n",
        "    rho_real = DensityMatrix(statevector_real).data # State vector yoğunluk matrisine dönüştürüldü.\n",
        "\n",
        "    # TEM\n",
        "    d_topo = 0.5 * np.linalg.norm(rho_ideal - rho_real, 'fro')\n",
        "    delta_S = -np.sum(probs_adjusted * np.log2(probs_adjusted))\n",
        "    return topo_weight*d_topo + entropy_weight*delta_S\n",
        "\n",
        "# 6. Optimizasyon\n",
        "def objective(params, shots=2048, topo_weight=0.7, entropy_weight=0.3):\n",
        "    theta, phi = params\n",
        "    theta = theta % (2 * np.pi) # Parametre normalizasyonu (modulo işlemi)\n",
        "    phi = phi % (2 * np.pi)\n",
        "    return calculate_TEM(create_NuBell_alpha(theta, phi), theta, phi, shots, topo_weight, entropy_weight)\n",
        "\n",
        "# Global Optimizasyon İçin Basinhopping'e Hazırlık\n",
        "def basinhopping_objective(params, shots=2048, topo_weight=0.7, entropy_weight=0.3):\n",
        "    return objective(params, shots, topo_weight, entropy_weight)\n",
        "\n",
        "# Hibrit Optimizasyon Fonksiyonu\n",
        "def hybrid_optimization(initial_theta, initial_phi, topo_weight, entropy_weight,\n",
        "                       low_shots=2048, high_shots=8192, nm_iter=50, bfgs_iter=100):\n",
        "    # Nelder-Mead ile keşif (low_shots)\n",
        "    result_nm = minimize(objective, [initial_theta, initial_phi], method='Nelder-Mead',\n",
        "                        args=(low_shots, topo_weight, entropy_weight),\n",
        "                        options={'maxiter': nm_iter})\n",
        "\n",
        "    # BFGS ile derinleştirme (high_shots)\n",
        "    result_bfgs = minimize(objective, result_nm.x, method='BFGS',\n",
        "                          args=(high_shots, topo_weight, entropy_weight),\n",
        "                          options={'maxiter': bfgs_iter})\n",
        "    return result_bfgs\n",
        "\n",
        "# Refined Local Search Fonksiyonu\n",
        "def refined_local_search(initial_theta, initial_phi, shots, topo_weight, entropy_weight):\n",
        "    result = minimize(objective, [initial_theta, initial_phi], method='BFGS',\n",
        "                     args=(shots, topo_weight, entropy_weight))\n",
        "    return result.x[0], result.x[1], result.fun\n",
        "\n",
        "\n",
        "# Ana Optimizasyon Fonksiyonu\n",
        "def optimize_parameters(algorithms, shots_values, tem_weights, num_repeats=5):\n",
        "  for algo in algorithms:\n",
        "    for shots in shots_values:\n",
        "        for topo_weight, entropy_weight in tem_weights:\n",
        "          print(f\"\\n--- Optimizasyon Algoritması: {algo}, Shots: {shots}, topo_weight:{topo_weight}, entropy_weight:{entropy_weight} ---\")\n",
        "          best_result = None\n",
        "          best_tem = float('inf')\n",
        "          for _ in range(num_repeats):\n",
        "              initial_theta = np.random.uniform(0, np.pi)\n",
        "              initial_phi = np.random.uniform(0, np.pi)\n",
        "\n",
        "              if algo == 'Basin-Hopping':\n",
        "                minimizer_kwargs = {\"method\": \"Nelder-Mead\", \"args\": (shots, topo_weight, entropy_weight)}\n",
        "                result = basinhopping(basinhopping_objective, [initial_theta, initial_phi],\n",
        "                                      minimizer_kwargs=minimizer_kwargs, niter=20, T=0.5)\n",
        "              elif algo == 'Hybrid':\n",
        "                result = hybrid_optimization(initial_theta, initial_phi, topo_weight, entropy_weight,\n",
        "                                             low_shots=2048, high_shots=8192, nm_iter = 50, bfgs_iter=100)\n",
        "              else:\n",
        "                result = minimize(objective, [initial_theta, initial_phi], method=algo,\n",
        "                                  args=(shots, topo_weight, entropy_weight))\n",
        "              if result.fun < best_tem:\n",
        "                  best_result = result\n",
        "                  best_tem = result.fun\n",
        "\n",
        "          print(f\"Optimal θ = {best_result.x[0]:.3f}, φ = {best_result.x[1]:.3f}\")\n",
        "          print(f\"Minimum TEM = {best_result.fun:.3f}\")\n",
        "\n",
        "          # Refined Local Search\n",
        "          refined_theta, refined_phi, refined_tem = refined_local_search(best_result.x[0], best_result.x[1], shots, topo_weight, entropy_weight)\n",
        "          print(f\"Rafine Parametre Arama:\")\n",
        "          print(f\"  Optimal θ = {refined_theta:.3f}, φ = {refined_phi:.3f}, Minimum TEM = {refined_tem:.3f}\")\n",
        "\n",
        "# Optimizasyon Ayarları\n",
        "algorithms = ['COBYLA', 'Nelder-Mead', 'BFGS', 'Basin-Hopping', 'Hybrid']\n",
        "shots_values = [2048]\n",
        "tem_weights = [(0.7, 0.3), (0.5, 0.5), (0.3, 0.7)]\n",
        "num_repeats = 5\n",
        "\n",
        "# Optimizasyonu Başlat\n",
        "optimize_parameters(algorithms, shots_values, tem_weights, num_repeats)"
      ],
      "metadata": {
        "colab": {
          "base_uri": "https://localhost:8080/"
        },
        "id": "o113bEadTi35",
        "outputId": "e2851aa1-79fc-4e78-fae9-14487748da23"
      },
      "execution_count": null,
      "outputs": [
        {
          "output_type": "stream",
          "name": "stdout",
          "text": [
            "\n",
            "--- Optimizasyon Algoritması: COBYLA, Shots: 2048, topo_weight:0.7, entropy_weight:0.3 ---\n"
          ]
        }
      ]
    }
  ]
}