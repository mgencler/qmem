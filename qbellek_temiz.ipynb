{
  "nbformat": 4,
  "nbformat_minor": 0,
  "metadata": {
    "colab": {
      "provenance": [],
      "authorship_tag": "ABX9TyODuE1p/PBpr4lwc/xJf1Z9",
      "include_colab_link": true
    },
    "kernelspec": {
      "name": "python3",
      "display_name": "Python 3"
    },
    "language_info": {
      "name": "python"
    }
  },
  "cells": [
    {
      "cell_type": "markdown",
      "metadata": {
        "id": "view-in-github",
        "colab_type": "text"
      },
      "source": [
        "<a href=\"https://colab.research.google.com/github/mgencler/qmem/blob/main/qbellek_temiz.ipynb\" target=\"_parent\"><img src=\"https://colab.research.google.com/assets/colab-badge.svg\" alt=\"Open In Colab\"/></a>"
      ]
    },
    {
      "cell_type": "code",
      "source": [
        "!pip uninstall -y qiskit qiskit-aer plotnine matplotlib"
      ],
      "metadata": {
        "colab": {
          "base_uri": "https://localhost:8080/"
        },
        "id": "0vY443xPiTZE",
        "outputId": "ebee1c74-10a8-4956-a1cc-90d68d8e1039"
      },
      "execution_count": null,
      "outputs": [
        {
          "output_type": "stream",
          "name": "stdout",
          "text": [
            "Found existing installation: qiskit 1.3.2\n",
            "Uninstalling qiskit-1.3.2:\n",
            "  Successfully uninstalled qiskit-1.3.2\n",
            "Found existing installation: qiskit-aer 0.16.0\n",
            "Uninstalling qiskit-aer-0.16.0:\n",
            "  Successfully uninstalled qiskit-aer-0.16.0\n",
            "Found existing installation: plotnine 0.14.5\n",
            "Uninstalling plotnine-0.14.5:\n",
            "  Successfully uninstalled plotnine-0.14.5\n",
            "Found existing installation: matplotlib 3.7.1\n",
            "Uninstalling matplotlib-3.7.1:\n",
            "  Successfully uninstalled matplotlib-3.7.1\n"
          ]
        }
      ]
    },
    {
      "cell_type": "code",
      "source": [
        "!pip install -q \"qiskit==1.3.2\" \"qiskit-aer==0.16.0\" \"matplotlib==3.8.0\" \"plotnine==0.14.5\""
      ],
      "metadata": {
        "colab": {
          "base_uri": "https://localhost:8080/"
        },
        "id": "X9LYiOZPiYUM",
        "outputId": "757d5698-05cc-48b7-9b21-2567b83b57c8"
      },
      "execution_count": null,
      "outputs": [
        {
          "output_type": "stream",
          "name": "stdout",
          "text": [
            "\u001b[2K   \u001b[90m━━━━━━━━━━━━━━━━━━━━━━━━━━━━━━━━━━━━━━━━\u001b[0m \u001b[32m11.6/11.6 MB\u001b[0m \u001b[31m39.9 MB/s\u001b[0m eta \u001b[36m0:00:00\u001b[0m\n",
            "\u001b[2K   \u001b[90m━━━━━━━━━━━━━━━━━━━━━━━━━━━━━━━━━━━━━━━━\u001b[0m \u001b[32m1.3/1.3 MB\u001b[0m \u001b[31m51.9 MB/s\u001b[0m eta \u001b[36m0:00:00\u001b[0m\n",
            "\u001b[?25h"
          ]
        }
      ]
    },
    {
      "cell_type": "code",
      "source": [
        "# -*- coding: utf-8 -*-\n",
        "\"\"\"\n",
        "DÜZELTİLMİŞ KUANTUM BELLEK PROTOTİPİ (Tüm Durumlar Aktif)\n",
        "\"\"\"\n",
        "\n",
        "from qiskit import QuantumCircuit, transpile\n",
        "from qiskit_aer import Aer\n",
        "from qiskit.circuit.library import UnitaryGate\n",
        "import numpy as np\n",
        "\n",
        "# 1. Özel Kapı Tanımları\n",
        "class TopolojiKapilari:\n",
        "    @staticmethod\n",
        "    def homotopy(theta):\n",
        "        return np.array([\n",
        "            [np.cos(theta), -np.sin(theta), 0, 0],\n",
        "            [np.sin(theta), np.cos(theta), 0, 0],\n",
        "            [0, 0, np.cos(theta), np.sin(theta)],\n",
        "            [0, 0, -np.sin(theta), np.cos(theta)]\n",
        "        ])\n",
        "\n",
        "    @staticmethod\n",
        "    def F_operator(phi):\n",
        "        return np.array([\n",
        "            [np.cos(phi), 0, 0, 1j*np.sin(phi)],\n",
        "            [0, np.cos(phi), -1j*np.sin(phi), 0],\n",
        "            [0, -1j*np.sin(phi), np.cos(phi), 0],\n",
        "            [1j*np.sin(phi), 0, 0, np.cos(phi)]\n",
        "        ])\n",
        "\n",
        "# 2. Kuantum Devresi\n",
        "def create_circuit(theta=np.pi/2, phi=np.pi/2):\n",
        "    qc = QuantumCircuit(2, 2)\n",
        "\n",
        "    # Bell durumu oluştur\n",
        "    qc.h(0)\n",
        "    qc.cx(0, 1)\n",
        "\n",
        "    # F operatörü\n",
        "    qc.append(UnitaryGate(TopolojiKapilari.F_operator(phi)), [0,1])\n",
        "\n",
        "    # Homotopy kapısı\n",
        "    qc.append(UnitaryGate(TopolojiKapilari.homotopy(theta)), [0,1])\n",
        "\n",
        "    # Ölçüm\n",
        "    qc.measure([0,1], [0,1])\n",
        "\n",
        "    return qc\n",
        "\n",
        "# 3. Simülasyon\n",
        "simulator = Aer.get_backend('aer_simulator')\n",
        "qc = create_circuit(theta=np.pi/2, phi=np.pi/2)\n",
        "qc_opt = transpile(qc, simulator, optimization_level=0)  # Optimizasyon kapalı\n",
        "result = simulator.run(qc_opt, shots=8192).result()\n",
        "counts = result.get_counts()\n",
        "\n",
        "# 4. Sonuçlar\n",
        "print(\"Ölçüm Sonuçları:\", counts)\n",
        "probs = np.array([counts.get(b, 0)/8192 for b in ['00','01','10','11']])\n",
        "print(\"Olasılıklar:\", probs)"
      ],
      "metadata": {
        "colab": {
          "base_uri": "https://localhost:8080/"
        },
        "id": "m25kCZZvksLl",
        "outputId": "dd766d28-3150-4e64-b5ca-3cf5f3c40e45"
      },
      "execution_count": null,
      "outputs": [
        {
          "output_type": "stream",
          "name": "stdout",
          "text": [
            "Ölçüm Sonuçları: {'01': 4050, '10': 4142}\n",
            "Olasılıklar: [0.         0.49438477 0.50561523 0.        ]\n"
          ]
        }
      ]
    }
  ]
}