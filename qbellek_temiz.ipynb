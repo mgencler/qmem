{
  "nbformat": 4,
  "nbformat_minor": 0,
  "metadata": {
    "colab": {
      "provenance": [],
      "authorship_tag": "ABX9TyMjj0nZXXy5483OhW9e3j0V",
      "include_colab_link": true
    },
    "kernelspec": {
      "name": "python3",
      "display_name": "Python 3"
    },
    "language_info": {
      "name": "python"
    }
  },
  "cells": [
    {
      "cell_type": "markdown",
      "metadata": {
        "id": "view-in-github",
        "colab_type": "text"
      },
      "source": [
        "<a href=\"https://colab.research.google.com/github/mgencler/qmem/blob/main/qbellek_temiz.ipynb\" target=\"_parent\"><img src=\"https://colab.research.google.com/assets/colab-badge.svg\" alt=\"Open In Colab\"/></a>"
      ]
    },
    {
      "cell_type": "code",
      "source": [
        "!pip uninstall -y qiskit qiskit-aer plotnine matplotlib"
      ],
      "metadata": {
        "colab": {
          "base_uri": "https://localhost:8080/"
        },
        "id": "0vY443xPiTZE",
        "outputId": "ebee1c74-10a8-4956-a1cc-90d68d8e1039"
      },
      "execution_count": null,
      "outputs": [
        {
          "output_type": "stream",
          "name": "stdout",
          "text": [
            "Found existing installation: qiskit 1.3.2\n",
            "Uninstalling qiskit-1.3.2:\n",
            "  Successfully uninstalled qiskit-1.3.2\n",
            "Found existing installation: qiskit-aer 0.16.0\n",
            "Uninstalling qiskit-aer-0.16.0:\n",
            "  Successfully uninstalled qiskit-aer-0.16.0\n",
            "Found existing installation: plotnine 0.14.5\n",
            "Uninstalling plotnine-0.14.5:\n",
            "  Successfully uninstalled plotnine-0.14.5\n",
            "Found existing installation: matplotlib 3.7.1\n",
            "Uninstalling matplotlib-3.7.1:\n",
            "  Successfully uninstalled matplotlib-3.7.1\n"
          ]
        }
      ]
    },
    {
      "cell_type": "code",
      "source": [
        "# 1. Gerekli Kütüphanelerin Yüklenmesi (Sürümlerle Birlikte)\n",
        "!pip install \"qiskit==1.3.2\" \"qiskit-aer==0.16.0\" \"matplotlib==3.8.0\" \"scipy==1.11.4\" --quiet\n",
        "\n",
        "# 2. Kütüphanelerin Import Edilmesi\n",
        "from qiskit import QuantumCircuit, transpile\n",
        "from qiskit.quantum_info import Statevector, Operator, Pauli\n",
        "from qiskit_aer import AerSimulator  # Aer 0.16.0 için yeni import\n",
        "import numpy as np\n",
        "import scipy.linalg\n",
        "from scipy.optimize import minimize, basinhopping\n",
        "import matplotlib.pyplot as plt\n",
        "\n",
        "# 3. HSC ve FEO Kapıları (Qiskit 1.3.2 Uyumlu)\n",
        "def create_HSC_gate_improved(theta):\n",
        "    # Pauli matrislerini manuel oluşturma\n",
        "    pauli_x = Pauli('X').to_matrix()\n",
        "    pauli_y = Pauli('Y').to_matrix()\n",
        "    pauli_z = Pauli('Z').to_matrix()\n",
        "    pauli_xy = np.kron(pauli_x, pauli_y)\n",
        "    pauli_zI = np.kron(pauli_z, np.eye(2))\n",
        "    H = pauli_xy + pauli_zI\n",
        "    return scipy.linalg.expm(-1j * theta * H)\n",
        "\n",
        "def create_FEO_gate(phi):\n",
        "    pauli_x = Pauli('X').to_matrix()\n",
        "    pauli_z = Pauli('Z').to_matrix()\n",
        "    pauli_xz = np.kron(pauli_x, pauli_z)\n",
        "    I = np.eye(4)\n",
        "    return np.cos(phi)*I + 1j*np.sin(phi)*pauli_xz\n",
        "\n",
        "# 4. NuBell-α Devresi\n",
        "def create_NuBell_alpha(theta, phi):\n",
        "    qc = QuantumCircuit(2, 2) # İki klasik bit ekledik.\n",
        "    qc.h(0)\n",
        "    qc.cx(0, 1)\n",
        "    qc.append(Operator(create_FEO_gate(phi)), [0,1])  # Yeni Operator() wrapper\n",
        "    qc.append(Operator(create_HSC_gate_improved(theta)), [0,1])\n",
        "    qc.measure([0, 1], [0, 1]) # Ölçüm Eklendi.\n",
        "    return qc\n",
        "\n",
        "# 5. TEM Hesaplama (Aer 0.16.0 Uyumlu)\n",
        "def calculate_TEM(qc, theta, phi, shots=2048, topo_weight=0.7, entropy_weight=0.3):\n",
        "    # Ölçümsüz ideal devreyi oluştur\n",
        "    qc_ideal = QuantumCircuit(2)\n",
        "    qc_ideal.h(0)\n",
        "    qc_ideal.cx(0, 1)\n",
        "    qc_ideal.append(Operator(create_FEO_gate(phi)), [0,1])\n",
        "    qc_ideal.append(Operator(create_HSC_gate_improved(theta)), [0,1])\n",
        "\n",
        "    # İdeal durum\n",
        "    ideal_sv = Statevector(qc_ideal)\n",
        "    rho_ideal = np.outer(ideal_sv, ideal_sv.conjugate())\n",
        "\n",
        "    # Simülasyon\n",
        "    simulator = AerSimulator()  # Yeni AerSimulator\n",
        "    transpiled_qc = transpile(qc, simulator)\n",
        "    result = simulator.run(transpiled_qc, shots=shots).result()\n",
        "    counts = result.get_counts()\n",
        "\n",
        "    # Olasılık dağılımı\n",
        "    probs = np.array([counts.get(state, 0)/shots for state in ['00','01','10','11']])\n",
        "\n",
        "    # Sıfır olasılık sorunu için daha iyi bir yaklaşım:\n",
        "    num_states = len(probs)\n",
        "    probs_adjusted = probs + (1/num_states) / num_states # Tüm olasılıklara paylaştırarak\n",
        "\n",
        "    rho_real = np.diag(probs_adjusted)  # Sıfır olasılık hatasını önleme\n",
        "\n",
        "    # TEM\n",
        "    d_topo = 0.5 * np.linalg.norm(rho_ideal - rho_real, 'fro')\n",
        "    delta_S = -np.sum(probs_adjusted * np.log2(probs_adjusted))\n",
        "    return topo_weight*d_topo + entropy_weight*delta_S\n",
        "\n",
        "# 6. Optimizasyon\n",
        "def objective(params, shots=2048, topo_weight=0.7, entropy_weight=0.3):\n",
        "    theta, phi = params\n",
        "    theta = theta % (2 * np.pi) # Parametre normalizasyonu (modulo işlemi)\n",
        "    phi = phi % (2 * np.pi)\n",
        "    return calculate_TEM(create_NuBell_alpha(theta, phi), theta, phi, shots, topo_weight, entropy_weight)\n",
        "\n",
        "# Global Optimizasyon İçin Basinhopping'e Hazırlık\n",
        "def basinhopping_objective(params, shots=2048, topo_weight=0.7, entropy_weight=0.3):\n",
        "    return objective(params, shots, topo_weight, entropy_weight)\n",
        "\n",
        "# Parametre Tarama Fonksiyonu\n",
        "def parameter_scan(initial_theta, initial_phi, shots=2048, topo_weight=0.7, entropy_weight=0.3, range_theta = 0.1, range_phi = 0.1, step = 0.02):\n",
        "    best_tem = float('inf')\n",
        "    best_theta = 0\n",
        "    best_phi = 0\n",
        "\n",
        "    theta_vals = np.arange(initial_theta-range_theta, initial_theta+range_theta, step)\n",
        "    phi_vals = np.arange(initial_phi-range_phi, initial_phi+range_phi, step)\n",
        "\n",
        "    for theta in theta_vals:\n",
        "        for phi in phi_vals:\n",
        "             tem = calculate_TEM(create_NuBell_alpha(theta, phi), theta, phi, shots, topo_weight, entropy_weight)\n",
        "             if tem < best_tem:\n",
        "                 best_tem = tem\n",
        "                 best_theta = theta\n",
        "                 best_phi = phi\n",
        "    return best_theta, best_phi, best_tem\n",
        "\n",
        "# Hibrit Optimizasyon Fonksiyonu\n",
        "def hybrid_optimization(initial_theta, initial_phi, topo_weight, entropy_weight, low_shots=2048, high_shots=8192):\n",
        "    # Nelder-Mead ile keşif\n",
        "    result_nm = minimize(objective, [initial_theta, initial_phi], method='Nelder-Mead',\n",
        "                         args=(low_shots, topo_weight, entropy_weight))\n",
        "\n",
        "    # BFGS ile derinleştirme\n",
        "    result_bfgs = minimize(objective, result_nm.x, method='BFGS',\n",
        "                         args=(high_shots, topo_weight, entropy_weight))\n",
        "\n",
        "    return result_bfgs\n",
        "\n",
        "# Optimizasyonu Başlat\n",
        "algorithms = ['COBYLA', 'Nelder-Mead', 'BFGS', 'Basin-Hopping', 'Hybrid'] # Hibrit algoritma eklendi\n",
        "shots_values = [2048]\n",
        "tem_weights = [(0.7, 0.3), (0.5, 0.5), (0.3, 0.7)]\n",
        "\n",
        "for algo in algorithms:\n",
        "    for shots in shots_values:\n",
        "        for topo_weight, entropy_weight in tem_weights:\n",
        "          print(f\"\\n--- Optimizasyon Algoritması: {algo}, Shots: {shots}, topo_weight:{topo_weight}, entropy_weight:{entropy_weight} ---\")\n",
        "          best_result = None\n",
        "          best_tem = float('inf')\n",
        "          for _ in range(5):  # Optimizasyonu birkaç kez tekrarla\n",
        "              initial_theta = np.random.uniform(0, np.pi)\n",
        "              initial_phi = np.random.uniform(0, np.pi)\n",
        "\n",
        "              if algo == 'Basin-Hopping':\n",
        "                  minimizer_kwargs = {\"method\": \"Nelder-Mead\",\n",
        "                                      \"args\" : (shots, topo_weight, entropy_weight)}\n",
        "                  result = basinhopping(basinhopping_objective, [initial_theta, initial_phi],\n",
        "                                       minimizer_kwargs=minimizer_kwargs, niter=5)\n",
        "              elif algo == 'Hybrid':\n",
        "                  result = hybrid_optimization(initial_theta, initial_phi, topo_weight, entropy_weight)\n",
        "              else:\n",
        "                  result = minimize(objective, [initial_theta, initial_phi], method=algo,\n",
        "                                     args = (shots, topo_weight, entropy_weight))\n",
        "\n",
        "              if result.fun < best_tem:\n",
        "                  best_result = result\n",
        "                  best_tem = result.fun\n",
        "\n",
        "          print(f\"Optimal θ = {best_result.x[0]:.3f}, φ = {best_result.x[1]:.3f}\")\n",
        "          print(f\"Minimum TEM = {best_result.fun:.3f}\")\n",
        "\n",
        "          # Parametre Tarama (En İyi Sonuç Etrafında)\n",
        "          scan_theta, scan_phi, scan_tem = parameter_scan(best_result.x[0], best_result.x[1], shots, topo_weight, entropy_weight)\n",
        "          print(f\"Parametre Taraması (En İyi Sonuç Etrafında):\")\n",
        "          print(f\"  Optimal θ = {scan_theta:.3f}, φ = {scan_phi:.3f}, Minimum TEM = {scan_tem:.3f}\")"
      ],
      "metadata": {
        "colab": {
          "base_uri": "https://localhost:8080/"
        },
        "id": "K7Av-vAHRNCg",
        "outputId": "2575bcc5-612a-4d9c-b32d-f067fb9fea31"
      },
      "execution_count": null,
      "outputs": [
        {
          "output_type": "stream",
          "name": "stdout",
          "text": [
            "\n",
            "--- Optimizasyon Algoritması: COBYLA, Shots: 2048, topo_weight:0.7, entropy_weight:0.3 ---\n"
          ]
        }
      ]
    }
  ]
}